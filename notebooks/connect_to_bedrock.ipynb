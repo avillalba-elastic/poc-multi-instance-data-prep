{
 "cells": [
  {
   "cell_type": "markdown",
   "metadata": {},
   "source": [
    "# AWS Bedrock Integration"
   ]
  },
  {
   "cell_type": "markdown",
   "metadata": {},
   "source": [
    "This notebook aims to provide an example of how to access [Bedrock](https://docs.aws.amazon.com/bedrock/latest/userguide/what-is-bedrock.html) and call one of their hosted LLMs.\n",
    "\n",
    "The LLM of this example is an Anthropic Claude model, and we are going to simulate a virtual assistant."
   ]
  },
  {
   "cell_type": "markdown",
   "metadata": {},
   "source": [
    "## Pre-requisites"
   ]
  },
  {
   "cell_type": "markdown",
   "metadata": {},
   "source": [
    "In order to interact with AWS Bedrock, you need to configure authentication first. \n",
    "\n",
    "Follow [these instructions](https://github.com/elastic/cloud/blob/master/wiki/AWS.md#configuring-okta-awscli-for-cli--api-access) in order to do so. You will need a Yubikey to enable MFA."
   ]
  },
  {
   "cell_type": "markdown",
   "metadata": {},
   "source": [
    "## Example"
   ]
  },
  {
   "cell_type": "markdown",
   "metadata": {},
   "source": [
    "The first thing we need to do is to create the Bedrock runtime client:"
   ]
  },
  {
   "cell_type": "code",
   "execution_count": 1,
   "metadata": {},
   "outputs": [],
   "source": [
    "from ml_utils.aws.bedrock.bedrock_clients import get_bedrock_runtime_client\n",
    "\n",
    "bedrock_runtime_client = get_bedrock_runtime_client()"
   ]
  },
  {
   "cell_type": "markdown",
   "metadata": {},
   "source": [
    "Let's define now some initial parameters:"
   ]
  },
  {
   "cell_type": "code",
   "execution_count": 2,
   "metadata": {},
   "outputs": [],
   "source": [
    "model_id = \"anthropic.claude-3-sonnet-20240229-v1:0\"\n",
    "system_prompt = \"Please respond only with emoji.\"\n",
    "max_tokens = 1000"
   ]
  },
  {
   "cell_type": "markdown",
   "metadata": {},
   "source": [
    "Let's invoke the model with an initial prompt:"
   ]
  },
  {
   "cell_type": "code",
   "execution_count": 3,
   "metadata": {},
   "outputs": [],
   "source": [
    "user_message = {\"role\": \"user\", \"content\": \"Hello there! How are you doing today?\"}\n",
    "messages = [user_message]"
   ]
  },
  {
   "cell_type": "code",
   "execution_count": 4,
   "metadata": {},
   "outputs": [
    {
     "name": "stdout",
     "output_type": "stream",
     "text": [
      "{'id': 'msg_bdrk_01WA5jsPx9a7aykajWHaGurB', 'type': 'message', 'role': 'assistant', 'model': 'claude-3-sonnet-20240229', 'content': [{'type': 'text', 'text': '👋🙂'}], 'stop_reason': 'end_turn', 'stop_sequence': None, 'usage': {'input_tokens': 22, 'output_tokens': 9}}\n"
     ]
    }
   ],
   "source": [
    "import json\n",
    "\n",
    "from botocore.exceptions import ClientError\n",
    "\n",
    "try:\n",
    "    body = json.dumps(\n",
    "        {\n",
    "            \"anthropic_version\": \"bedrock-2023-05-31\",\n",
    "            \"max_tokens\": max_tokens,\n",
    "            \"system\": system_prompt,\n",
    "            \"messages\": messages,\n",
    "        }\n",
    "    )\n",
    "\n",
    "    response = bedrock_runtime_client.invoke_model(body=body, modelId=model_id)\n",
    "    response_body = json.loads(response[\"body\"].read())\n",
    "    print(response_body)\n",
    "\n",
    "except ClientError as e:\n",
    "    message = e.response[\"Error\"][\"Message\"]\n",
    "    print(f\"A client error occurred: {message}\")"
   ]
  },
  {
   "cell_type": "markdown",
   "metadata": {},
   "source": [
    "To check the different models and options that you have at hand with Bedrock, check [this chapter](https://docs.aws.amazon.com/bedrock/latest/userguide/model-parameters.html) of the documentation.\n",
    "\n",
    "To check the pricing of each inference, see the [pricing information](https://aws.amazon.com/bedrock/pricing/).\n",
    "\n",
    "Check [here](https://docs.aws.amazon.com/bedrock/latest/userguide/models-regions.html) the models supported by region.\n",
    "\n",
    "And, finally, check [here](https://docs.aws.amazon.com/bedrock/latest/userguide/conversation-inference.html) the Converse API, which is more intended for conversations."
   ]
  },
  {
   "cell_type": "markdown",
   "metadata": {},
   "source": [
    "## Optional: Store the result of MLflow"
   ]
  },
  {
   "cell_type": "markdown",
   "metadata": {},
   "source": [
    "You can use MLflow to track your prompts and responses."
   ]
  },
  {
   "cell_type": "markdown",
   "metadata": {},
   "source": [
    "First, connect to our centralized MLflow server:"
   ]
  },
  {
   "cell_type": "code",
   "execution_count": 5,
   "metadata": {},
   "outputs": [
    {
     "name": "stderr",
     "output_type": "stream",
     "text": [
      "\u001b[32m2025-02-19 12:35:00.100\u001b[0m | \u001b[1mINFO    \u001b[0m | \u001b[36mml_utils.aws.sagemaker\u001b[0m:\u001b[36mauthenticate_in_aws_sagemaker\u001b[0m:\u001b[36m14\u001b[0m - \u001b[1mAuthenticating to AWS Sagemaker...\u001b[0m\n",
      "\u001b[32m2025-02-19 12:35:01.195\u001b[0m | \u001b[1mINFO    \u001b[0m | \u001b[36mml_utils.aws.sagemaker\u001b[0m:\u001b[36mauthenticate_in_aws_sagemaker\u001b[0m:\u001b[36m23\u001b[0m - \u001b[1mAuthentication to AWS Sagemaker successfully done!\u001b[0m\n",
      "\u001b[32m2025-02-19 12:35:01.196\u001b[0m | \u001b[1mINFO    \u001b[0m | \u001b[36mml_utils.mlflow.server\u001b[0m:\u001b[36mset_mlflow_server\u001b[0m:\u001b[36m13\u001b[0m - \u001b[1mMLflow Tracking Server set to arn:aws:sagemaker:us-east-1:879381254630:mlflow-tracking-server/ml-rd-mlflow-server\u001b[0m\n"
     ]
    }
   ],
   "source": [
    "from ml_utils.aws.sagemaker import authenticate_in_aws_sagemaker\n",
    "from ml_utils.mlflow.server import set_mlflow_server\n",
    "\n",
    "authenticate_in_aws_sagemaker()\n",
    "set_mlflow_server()"
   ]
  },
  {
   "cell_type": "markdown",
   "metadata": {},
   "source": [
    "Now, let's log the input prompt and the response we got:"
   ]
  },
  {
   "cell_type": "code",
   "execution_count": 6,
   "metadata": {},
   "outputs": [
    {
     "data": {
      "text/plain": [
       "<Experiment: artifact_location='s3://ml-rd-mlflow-artifact-storage/artifacts/39', creation_time=1736873360807, experiment_id='39', last_update_time=1736873360807, lifecycle_stage='active', name='mvp-mlops-platform', tags={'mlflow.note.content': 'This is a test experiment',\n",
       " 'release.version': '2.2.0',\n",
       " 'use-case': 'mvp-mlops'}>"
      ]
     },
     "execution_count": 6,
     "metadata": {},
     "output_type": "execute_result"
    }
   ],
   "source": [
    "import mlflow\n",
    "\n",
    "mlflow.set_experiment(\"mvp-mlops-platform\")"
   ]
  },
  {
   "cell_type": "code",
   "execution_count": 7,
   "metadata": {},
   "outputs": [
    {
     "name": "stderr",
     "output_type": "stream",
     "text": [
      "2025/02/19 12:35:04 INFO mlflow.tracking._tracking_service.client: 🏃 View run bedrock-emoji-example at: https://us-east-1.experiments.sagemaker.aws/#/experiments/39/runs/a46ad34573e8475b95b19bce64034042.\n",
      "2025/02/19 12:35:04 INFO mlflow.tracking._tracking_service.client: 🧪 View experiment at: https://us-east-1.experiments.sagemaker.aws/#/experiments/39.\n"
     ]
    }
   ],
   "source": [
    "with mlflow.start_run(run_name=\"bedrock-emoji-example\"):\n",
    "    mlflow.log_text(text=system_prompt, artifact_file=\"system_prompt.txt\")\n",
    "    mlflow.log_text(text=json.dumps(user_message), artifact_file=\"user_message.json\")\n",
    "    mlflow.log_text(text=json.dumps(response_body), artifact_file=\"response.json\")"
   ]
  },
  {
   "cell_type": "markdown",
   "metadata": {},
   "source": [
    "Now go and check the results of the mlflow UI:"
   ]
  },
  {
   "cell_type": "code",
   "execution_count": 10,
   "metadata": {},
   "outputs": [
    {
     "data": {
      "image/webp": "[encoded data removed]",
      "text/plain": [
       "<IPython.core.display.Image object>"
      ]
     },
     "execution_count": 10,
     "metadata": {},
     "output_type": "execute_result"
    }
   ],
   "source": [
    "from IPython.display import Image\n",
    "\n",
    "Image(filename=\"images/mlflow_bedrock_user.webp\")"
   ]
  },
  {
   "cell_type": "code",
   "execution_count": 11,
   "metadata": {},
   "outputs": [
    {
     "data": {
      "image/webp": "[encoded data removed]",
      "text/plain": [
       "<IPython.core.display.Image object>"
      ]
     },
     "execution_count": 11,
     "metadata": {},
     "output_type": "execute_result"
    }
   ],
   "source": [
    "from IPython.display import Image\n",
    "\n",
    "Image(filename=\"images/mlflow_llm_response.webp\")"
   ]
  }
 ],
 "metadata": {
  "kernelspec": {
   "display_name": ".venv",
   "language": "python",
   "name": "python3"
  },
  "language_info": {
   "codemirror_mode": {
    "name": "ipython",
    "version": 3
   },
   "file_extension": ".py",
   "mimetype": "text/x-python",
   "name": "python",
   "nbconvert_exporter": "python",
   "pygments_lexer": "ipython3",
   "version": "3.12.6"
  }
 },
 "nbformat": 4,
 "nbformat_minor": 2
}
