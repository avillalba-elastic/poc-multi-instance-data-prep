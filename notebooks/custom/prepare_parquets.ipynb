{
 "cells": [
  {
   "cell_type": "markdown",
   "id": "2be9755f",
   "metadata": {},
   "source": [
    "# Goal"
   ]
  },
  {
   "cell_type": "markdown",
   "id": "3ec9f7cf",
   "metadata": {},
   "source": [
    "This notebook picks one of our medium-large datasets in Delta and converts it to Parquet files to test data sharding using `ShardedByKey` in a Sagemaker Processing Job.\n",
    "\n",
    "The selected dataset is stored at `s3://mvp-mlops-platform/poc-multi-instance-data-prep-repartitioned-delta/`, which one of our largest datasets originally stored at `s3://ml-rd-ml-datasets/generateVectorEmbed/Qwen3-Embedding-0.6B/miracl/fr/vector_corpus/` but repartitioned to have ~1GB per underlying Parquet file."
   ]
  },
  {
   "cell_type": "markdown",
   "id": "0db30be3",
   "metadata": {},
   "source": [
    "## 1. Authentication to AWS"
   ]
  },
  {
   "cell_type": "code",
   "execution_count": 1,
   "id": "4f055188",
   "metadata": {},
   "outputs": [],
   "source": [
    "import boto3\n",
    "\n",
    "ml_session = boto3.Session(profile_name=\"ml\", region_name=\"us-east-1\")"
   ]
  },
  {
   "cell_type": "code",
   "execution_count": 2,
   "id": "ad960c06",
   "metadata": {},
   "outputs": [],
   "source": [
    "import os\n",
    "\n",
    "credentials = ml_session.get_credentials().get_frozen_credentials()\n",
    "os.environ[\"AWS_ACCESS_KEY_ID\"] = credentials.access_key\n",
    "os.environ[\"AWS_SECRET_ACCESS_KEY\"] = credentials.secret_key\n",
    "os.environ[\"AWS_SESSION_TOKEN\"] = credentials.token"
   ]
  },
  {
   "cell_type": "markdown",
   "id": "fda2a2b5",
   "metadata": {},
   "source": [
    "## 2. Copy underlying Parquet files from the latest Delta Lake table"
   ]
  },
  {
   "cell_type": "code",
   "execution_count": 3,
   "id": "1a5a85c4",
   "metadata": {},
   "outputs": [
    {
     "name": "stderr",
     "output_type": "stream",
     "text": [
      "\u001b[90m[\u001b[0m2025-07-31T07:57:05Z \u001b[33mWARN \u001b[0m aws_config::imds::region\u001b[90m]\u001b[0m failed to load region from IMDS err=failed to load IMDS session token: dispatch failure: timeout: client error (Connect): HTTP connect timeout occurred after 1s: timed out (FailedToLoadToken(FailedToLoadToken { source: DispatchFailure(DispatchFailure { source: ConnectorError { kind: Timeout, source: hyper_util::client::legacy::Error(Connect, HttpTimeoutError { kind: \"HTTP connect\", duration: 1s }), connection: Unknown } }) }))\n",
      "\u001b[90m[\u001b[0m2025-07-31T07:57:06Z \u001b[33mWARN \u001b[0m aws_config::imds::region\u001b[90m]\u001b[0m failed to load region from IMDS err=failed to load IMDS session token: dispatch failure: timeout: client error (Connect): HTTP connect timeout occurred after 1s: timed out (FailedToLoadToken(FailedToLoadToken { source: DispatchFailure(DispatchFailure { source: ConnectorError { kind: Timeout, source: hyper_util::client::legacy::Error(Connect, HttpTimeoutError { kind: \"HTTP connect\", duration: 1s }), connection: Unknown } }) }))\n",
      "\u001b[90m[\u001b[0m2025-07-31T07:57:07Z \u001b[33mWARN \u001b[0m aws_config::imds::region\u001b[90m]\u001b[0m failed to load region from IMDS err=failed to load IMDS session token: dispatch failure: timeout: client error (Connect): HTTP connect timeout occurred after 1s: timed out (FailedToLoadToken(FailedToLoadToken { source: DispatchFailure(DispatchFailure { source: ConnectorError { kind: Timeout, source: hyper_util::client::legacy::Error(Connect, HttpTimeoutError { kind: \"HTTP connect\", duration: 1s }), connection: Unknown } }) }))\n",
      "\u001b[90m[\u001b[0m2025-07-31T07:57:08Z \u001b[33mWARN \u001b[0m aws_config::imds::region\u001b[90m]\u001b[0m failed to load region from IMDS err=failed to load IMDS session token: dispatch failure: timeout: client error (Connect): HTTP connect timeout occurred after 1s: timed out (FailedToLoadToken(FailedToLoadToken { source: DispatchFailure(DispatchFailure { source: ConnectorError { kind: Timeout, source: hyper_util::client::legacy::Error(Connect, HttpTimeoutError { kind: \"HTTP connect\", duration: 1s }), connection: Unknown } }) }))\n",
      "\u001b[90m[\u001b[0m2025-07-31T07:57:09Z \u001b[33mWARN \u001b[0m aws_config::imds::region\u001b[90m]\u001b[0m failed to load region from IMDS err=failed to load IMDS session token: dispatch failure: timeout: client error (Connect): HTTP connect timeout occurred after 1s: timed out (FailedToLoadToken(FailedToLoadToken { source: DispatchFailure(DispatchFailure { source: ConnectorError { kind: Timeout, source: hyper_util::client::legacy::Error(Connect, HttpTimeoutError { kind: \"HTTP connect\", duration: 1s }), connection: Unknown } }) }))\n",
      "\u001b[90m[\u001b[0m2025-07-31T07:57:09Z \u001b[33mWARN \u001b[0m aws_config::imds::region\u001b[90m]\u001b[0m failed to load region from IMDS err=failed to load IMDS session token: dispatch failure: other: client error (Connect): tcp connect error: Host is down (os error 64) (FailedToLoadToken(FailedToLoadToken { source: DispatchFailure(DispatchFailure { source: ConnectorError { kind: Other(None), source: hyper_util::client::legacy::Error(Connect, ConnectError(\"tcp connect error\", 169.254.169.254:80, Os { code: 64, kind: Uncategorized, message: \"Host is down\" })), connection: Unknown } }) }))\n"
     ]
    }
   ],
   "source": [
    "from deltalake import DeltaTable\n",
    "\n",
    "ORIGINAL_DATASET_S3_URI = \"s3://mvp-mlops-platform/poc-multi-instance-data-prep-repartitioned-delta/\"\n",
    "\n",
    "dt = DeltaTable(\n",
    "    table_uri=ORIGINAL_DATASET_S3_URI,\n",
    "    storage_options={\"timeout\": \"3600s\"}\n",
    ")"
   ]
  },
  {
   "cell_type": "code",
   "execution_count": 4,
   "id": "949e13ba",
   "metadata": {},
   "outputs": [
    {
     "data": {
      "text/plain": [
       "14636953"
      ]
     },
     "execution_count": 4,
     "metadata": {},
     "output_type": "execute_result"
    }
   ],
   "source": [
    "dt.to_pyarrow_dataset().count_rows()"
   ]
  },
  {
   "cell_type": "markdown",
   "id": "32cff3fb",
   "metadata": {},
   "source": [
    "Retrieve the Parquet files that form the latest version of the table:"
   ]
  },
  {
   "cell_type": "code",
   "execution_count": 5,
   "id": "63536bc3",
   "metadata": {},
   "outputs": [
    {
     "name": "stdout",
     "output_type": "stream",
     "text": [
      "# of Parquet files forming the latest version of the Delta table: 61\n",
      "\n",
      "s3://mvp-mlops-platform/poc-multi-instance-data-prep-repartitioned-delta/part-00001-0eebc8f7-76e7-4024-84e1-fa2b5651b08c-c000.zstd.parquet\n"
     ]
    }
   ],
   "source": [
    "parquet_files = dt.file_uris()\n",
    "\n",
    "print(f\"# of Parquet files forming the latest version of the Delta table: {len(parquet_files)}\\n\")\n",
    "print(parquet_files[0])  # print only one sample"
   ]
  },
  {
   "cell_type": "markdown",
   "id": "6d4dac11",
   "metadata": {},
   "source": [
    "Let's copy all the Parquet files of the latest version of the Delta table to a new destination:"
   ]
  },
  {
   "cell_type": "code",
   "execution_count": null,
   "id": "69653c40",
   "metadata": {},
   "outputs": [
    {
     "name": "stdout",
     "output_type": "stream",
     "text": [
      "Copying 0 of 61: s3://mvp-mlops-platform/poc-multi-instance-data-prep-repartitioned-delta/part-00001-0eebc8f7-76e7-4024-84e1-fa2b5651b08c-c000.zstd.parquet...\n",
      "s3://mvp-mlops-platform/poc-multi-instance-data-prep-repartitioned-delta/part-00001-0eebc8f7-76e7-4024-84e1-fa2b5651b08c-c000.zstd.parquet successfully copied!\n",
      "Copying 1 of 61: s3://mvp-mlops-platform/poc-multi-instance-data-prep-repartitioned-delta/part-00001-0ed79d16-c12d-4c6c-8f87-8253daa072c6-c000.zstd.parquet...\n",
      "s3://mvp-mlops-platform/poc-multi-instance-data-prep-repartitioned-delta/part-00001-0ed79d16-c12d-4c6c-8f87-8253daa072c6-c000.zstd.parquet successfully copied!\n",
      "Copying 2 of 61: s3://mvp-mlops-platform/poc-multi-instance-data-prep-repartitioned-delta/part-00001-b2c77227-e837-47cf-b409-f371f50250c0-c000.zstd.parquet...\n",
      "s3://mvp-mlops-platform/poc-multi-instance-data-prep-repartitioned-delta/part-00001-b2c77227-e837-47cf-b409-f371f50250c0-c000.zstd.parquet successfully copied!\n",
      "Copying 3 of 61: s3://mvp-mlops-platform/poc-multi-instance-data-prep-repartitioned-delta/part-00001-f75a5bf8-dd6f-4f0d-a2e6-ac33e051e829-c000.snappy.parquet...\n",
      "s3://mvp-mlops-platform/poc-multi-instance-data-prep-repartitioned-delta/part-00001-f75a5bf8-dd6f-4f0d-a2e6-ac33e051e829-c000.snappy.parquet successfully copied!\n",
      "Copying 4 of 61: s3://mvp-mlops-platform/poc-multi-instance-data-prep-repartitioned-delta/part-00002-f75a5bf8-dd6f-4f0d-a2e6-ac33e051e829-c000.snappy.parquet...\n",
      "s3://mvp-mlops-platform/poc-multi-instance-data-prep-repartitioned-delta/part-00002-f75a5bf8-dd6f-4f0d-a2e6-ac33e051e829-c000.snappy.parquet successfully copied!\n",
      "Copying 5 of 61: s3://mvp-mlops-platform/poc-multi-instance-data-prep-repartitioned-delta/part-00003-f75a5bf8-dd6f-4f0d-a2e6-ac33e051e829-c000.snappy.parquet...\n",
      "s3://mvp-mlops-platform/poc-multi-instance-data-prep-repartitioned-delta/part-00003-f75a5bf8-dd6f-4f0d-a2e6-ac33e051e829-c000.snappy.parquet successfully copied!\n",
      "Copying 6 of 61: s3://mvp-mlops-platform/poc-multi-instance-data-prep-repartitioned-delta/part-00004-f75a5bf8-dd6f-4f0d-a2e6-ac33e051e829-c000.snappy.parquet...\n",
      "s3://mvp-mlops-platform/poc-multi-instance-data-prep-repartitioned-delta/part-00004-f75a5bf8-dd6f-4f0d-a2e6-ac33e051e829-c000.snappy.parquet successfully copied!\n",
      "Copying 7 of 61: s3://mvp-mlops-platform/poc-multi-instance-data-prep-repartitioned-delta/part-00001-fe8b4cc3-6e25-4ac7-b14a-715f5837b25d-c000.snappy.parquet...\n",
      "s3://mvp-mlops-platform/poc-multi-instance-data-prep-repartitioned-delta/part-00001-fe8b4cc3-6e25-4ac7-b14a-715f5837b25d-c000.snappy.parquet successfully copied!\n",
      "Copying 8 of 61: s3://mvp-mlops-platform/poc-multi-instance-data-prep-repartitioned-delta/part-00002-fe8b4cc3-6e25-4ac7-b14a-715f5837b25d-c000.snappy.parquet...\n",
      "s3://mvp-mlops-platform/poc-multi-instance-data-prep-repartitioned-delta/part-00002-fe8b4cc3-6e25-4ac7-b14a-715f5837b25d-c000.snappy.parquet successfully copied!\n",
      "Copying 9 of 61: s3://mvp-mlops-platform/poc-multi-instance-data-prep-repartitioned-delta/part-00003-fe8b4cc3-6e25-4ac7-b14a-715f5837b25d-c000.snappy.parquet...\n",
      "s3://mvp-mlops-platform/poc-multi-instance-data-prep-repartitioned-delta/part-00003-fe8b4cc3-6e25-4ac7-b14a-715f5837b25d-c000.snappy.parquet successfully copied!\n",
      "Copying 10 of 61: s3://mvp-mlops-platform/poc-multi-instance-data-prep-repartitioned-delta/part-00004-fe8b4cc3-6e25-4ac7-b14a-715f5837b25d-c000.snappy.parquet...\n",
      "s3://mvp-mlops-platform/poc-multi-instance-data-prep-repartitioned-delta/part-00004-fe8b4cc3-6e25-4ac7-b14a-715f5837b25d-c000.snappy.parquet successfully copied!\n",
      "Copying 11 of 61: s3://mvp-mlops-platform/poc-multi-instance-data-prep-repartitioned-delta/part-00001-be8066ae-99ca-4aee-8a72-49220e4e87ec-c000.snappy.parquet...\n",
      "s3://mvp-mlops-platform/poc-multi-instance-data-prep-repartitioned-delta/part-00001-be8066ae-99ca-4aee-8a72-49220e4e87ec-c000.snappy.parquet successfully copied!\n",
      "Copying 12 of 61: s3://mvp-mlops-platform/poc-multi-instance-data-prep-repartitioned-delta/part-00002-be8066ae-99ca-4aee-8a72-49220e4e87ec-c000.snappy.parquet...\n",
      "s3://mvp-mlops-platform/poc-multi-instance-data-prep-repartitioned-delta/part-00002-be8066ae-99ca-4aee-8a72-49220e4e87ec-c000.snappy.parquet successfully copied!\n",
      "Copying 13 of 61: s3://mvp-mlops-platform/poc-multi-instance-data-prep-repartitioned-delta/part-00003-be8066ae-99ca-4aee-8a72-49220e4e87ec-c000.snappy.parquet...\n",
      "s3://mvp-mlops-platform/poc-multi-instance-data-prep-repartitioned-delta/part-00003-be8066ae-99ca-4aee-8a72-49220e4e87ec-c000.snappy.parquet successfully copied!\n",
      "Copying 14 of 61: s3://mvp-mlops-platform/poc-multi-instance-data-prep-repartitioned-delta/part-00004-be8066ae-99ca-4aee-8a72-49220e4e87ec-c000.snappy.parquet...\n",
      "s3://mvp-mlops-platform/poc-multi-instance-data-prep-repartitioned-delta/part-00004-be8066ae-99ca-4aee-8a72-49220e4e87ec-c000.snappy.parquet successfully copied!\n",
      "Copying 15 of 61: s3://mvp-mlops-platform/poc-multi-instance-data-prep-repartitioned-delta/part-00001-e64fad4b-ccfd-4df8-9557-b52515bfb537-c000.snappy.parquet...\n"
     ]
    }
   ],
   "source": [
    "s3_client = ml_session.client(\"s3\")\n",
    "\n",
    "source_bucket = \"mvp-mlops-platform\"\n",
    "destination_bucket = \"mvp-mlops-platform\"\n",
    "destination_prefix = \"poc-multi-instance-data-prep-repartitioned-parquet/\"\n",
    "\n",
    "for i, parquet_file in enumerate(parquet_files):\n",
    "    print(f\"Copying {i} of {len(parquet_files)}: {parquet_file}...\")\n",
    "\n",
    "    source_key = parquet_file.replace(f\"s3://{source_bucket}/\", \"\")\n",
    "    destination_key = destination_prefix + source_key.split(\"/\")[-1]\n",
    "\n",
    "    s3_client.copy_object(\n",
    "        Bucket=destination_bucket,\n",
    "        CopySource={'Bucket': source_bucket, 'Key': source_key},\n",
    "        Key=destination_key\n",
    "    )\n",
    "\n",
    "    print(f\"{parquet_file} successfully copied!\")"
   ]
  }
 ],
 "metadata": {
  "kernelspec": {
   "display_name": "poc-multi-instance-data-preparation-py3.12",
   "language": "python",
   "name": "python3"
  },
  "language_info": {
   "codemirror_mode": {
    "name": "ipython",
    "version": 3
   },
   "file_extension": ".py",
   "mimetype": "text/x-python",
   "name": "python",
   "nbconvert_exporter": "python",
   "pygments_lexer": "ipython3",
   "version": "3.12.6"
  }
 },
 "nbformat": 4,
 "nbformat_minor": 5
}
